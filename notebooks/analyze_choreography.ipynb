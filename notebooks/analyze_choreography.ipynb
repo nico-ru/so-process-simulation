{
 "cells": [
  {
   "cell_type": "markdown",
   "metadata": {},
   "source": [
    "# Analyze Process Choreography "
   ]
  },
  {
   "cell_type": "code",
   "execution_count": null,
   "metadata": {},
   "outputs": [],
   "source": [
    "import os\n",
    "import pm4py\n",
    "import pandas as pd\n",
    "\n",
    "compound = 'all'\n",
    "log_df = pd.read_csv(os.path.join('..', 'logs', 'compound', compound, 'annotations.csv'))\n",
    "log_df_f = pm4py.format_dataframe(log_df, case_id='CORRELATION_ID', activity_key='ENDPOINT', timestamp_key='TIMESTAMP')\n",
    "event_log = pm4py.convert_to_event_log(log_df_f)\n",
    "\n",
    "bpmn = pm4py.discover_bpmn_inductive(event_log)\n",
    "pm4py.view_bpmn(bpmn)"
   ]
  }
 ],
 "metadata": {
  "kernelspec": {
   "display_name": "Python 3.10.4 ('simulation')",
   "language": "python",
   "name": "python3"
  },
  "language_info": {
   "codemirror_mode": {
    "name": "ipython",
    "version": 3
   },
   "file_extension": ".py",
   "mimetype": "text/x-python",
   "name": "python",
   "nbconvert_exporter": "python",
   "pygments_lexer": "ipython3",
   "version": "3.10.4"
  },
  "orig_nbformat": 4,
  "vscode": {
   "interpreter": {
    "hash": "fe68fe99071060b7339e27241039b7d7b81c1bf7d913e30ec656f9b1d0015547"
   }
  }
 },
 "nbformat": 4,
 "nbformat_minor": 2
}
